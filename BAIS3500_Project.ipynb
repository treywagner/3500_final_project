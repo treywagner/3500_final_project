{
 "cells": [
  {
   "cell_type": "markdown",
   "id": "331683a4-9124-412c-9124-ce4c0b91734c",
   "metadata": {},
   "source": [
    "# Data Mining Project - Data Cleaning\n",
    "## Members: Trey Wagner, Justin Roe, Braden Bullon, Dylan Bland"
   ]
  },
  {
   "cell_type": "code",
   "execution_count": null,
   "id": "395233a2-9465-4359-a4c1-e444970f4adf",
   "metadata": {},
   "outputs": [],
   "source": [
    "import pandas as pd"
   ]
  },
  {
   "cell_type": "markdown",
   "id": "5f9955f2-a18a-49a4-9667-4d22d4ef7eed",
   "metadata": {},
   "source": [
    "### Import the Data"
   ]
  },
  {
   "cell_type": "code",
   "execution_count": null,
   "id": "f895e2fb-3c53-43a6-bffd-e9d580729454",
   "metadata": {},
   "outputs": [],
   "source": [
    "#Import both data sets \n",
    "nfl_data = pd.read_csv('NFL_League_Master.csv', index_col=0, encoding='utf-8', sep=',')\n",
    "qb_data = pd.read_csv('passing_cleaned.csv', index_col=0, encoding='utf-8', sep=',')"
   ]
  },
  {
   "cell_type": "code",
   "execution_count": null,
   "id": "6cbef1f5-a7e5-4add-bb14-5389679f8eb4",
   "metadata": {
    "scrolled": true
   },
   "outputs": [],
   "source": [
    "#Check the data was imported\n",
    "\n",
    "display(nfl_data.head(),\n",
    "qb_data.head())"
   ]
  },
  {
   "cell_type": "markdown",
   "id": "d1e12bbc-0c3f-43cb-b56d-8c0e0d1e1460",
   "metadata": {},
   "source": [
    "### Review the Data"
   ]
  },
  {
   "cell_type": "code",
   "execution_count": null,
   "id": "62ebe540-09aa-4b77-9a79-cd4dff0b071f",
   "metadata": {
    "scrolled": true
   },
   "outputs": [],
   "source": [
    "#Look at all the columns to assess what needs dropped right away\n",
    "#Check what kind of data it is, determine whether it needs transformed\n",
    "\n",
    "display(nfl_data.dtypes)\n",
    "display(qb_data.dtypes)"
   ]
  },
  {
   "cell_type": "markdown",
   "id": "0fa76bc2-99f6-46eb-8169-56d3e5f3ec24",
   "metadata": {},
   "source": [
    "### Clean the Data"
   ]
  },
  {
   "cell_type": "code",
   "execution_count": null,
   "id": "33fe83e6-8d47-4d23-acc3-abd470a1d716",
   "metadata": {},
   "outputs": [],
   "source": [
    "# List of columns to check for duplication (excluding 'Tm' and 'Year')\n",
    "columns_to_check = [col for col in qb_data.columns if col not in ['Tm', 'Year']]\n",
    "\n",
    "# Find rows with duplicate values across all those columns\n",
    "dup_mask = qb_data.duplicated(subset=columns_to_check, keep=False)\n",
    "\n",
    "# Show duplicate rows\n",
    "qb_duplicates_excl_tm_year = qb_data[dup_mask]\n"
   ]
  },
  {
   "cell_type": "code",
   "execution_count": null,
   "id": "1c6110cd-d044-4dcc-a618-4d5d43cf5b76",
   "metadata": {
    "scrolled": true
   },
   "outputs": [],
   "source": [
    "# Display the duplicate rows across all columns except 'Tm' and 'Year'\n",
    "qb_data[dup_mask]\n"
   ]
  },
  {
   "cell_type": "code",
   "execution_count": null,
   "id": "04c465a5-0d80-4a21-9fa8-cf8d26f2adbc",
   "metadata": {},
   "outputs": [],
   "source": [
    "# Sort the duplicate rows by all columns except 'Tm' and 'Year'\n",
    "columns_to_sort = [col for col in qb_data.columns if col not in ['Tm', 'Year']]\n",
    "qb_duplicates_excl_tm_year_sorted = qb_duplicates_excl_tm_year.sort_values(by=columns_to_sort)\n",
    "\n",
    "# Display sorted duplicates\n",
    "qb_duplicates_excl_tm_year_sorted\n"
   ]
  },
  {
   "cell_type": "code",
   "execution_count": null,
   "id": "e70ae716-758c-446b-8cf2-0c37aa6c0440",
   "metadata": {
    "scrolled": true
   },
   "outputs": [],
   "source": [
    "# Step 1: Filter for 2007 and 2023 rows\n",
    "qb_2007 = qb_data[qb_data['Year'] == 2007]\n",
    "qb_2023 = qb_data[qb_data['Year'] == 2023]\n",
    "\n",
    "# Step 2: Drop 'Tm' and 'Year' for raw stat comparison\n",
    "qb_2007_stats = qb_2007.drop(columns=['Tm', 'Year'])\n",
    "qb_2023_stats = qb_2023.drop(columns=['Tm', 'Year'])\n",
    "\n",
    "# Step 3: Find matching rows based on stat values only\n",
    "matching_rows = qb_2007_stats.merge(qb_2023_stats, how='inner')\n",
    "\n",
    "# Step 4: Get full original rows from qb_data\n",
    "matched_2007 = qb_2007[qb_2007_stats.apply(tuple, axis=1).isin(matching_rows.apply(tuple, axis=1))]\n",
    "matched_2023 = qb_2023[qb_2023_stats.apply(tuple, axis=1).isin(matching_rows.apply(tuple, axis=1))]\n",
    "\n",
    "# Step 5: Display both matched sets\n",
    "pd.concat([matched_2007, matched_2023])\n"
   ]
  },
  {
   "cell_type": "code",
   "execution_count": null,
   "id": "d7962b8f-b7c3-4af2-a4d9-e2ec0cf6febd",
   "metadata": {},
   "outputs": [],
   "source": [
    "#Now let's start the actual cleaning\n",
    "\n",
    "#First copy the data we want so we don't mess up the original. This will exclude any data we don't want. \n",
    "nfl_copy = nfl_data[['NFL Team', 'Year', 'W', 'L', 'T', 'PCT', 'PF', 'PA', 'Net Pts']]\n",
    "\n",
    "#This will be the data we use from here on.\n",
    "nfl_copy.head()"
   ]
  },
  {
   "cell_type": "code",
   "execution_count": null,
   "id": "e9c9f67d-43c2-44f8-aabf-80c826accdbb",
   "metadata": {},
   "outputs": [],
   "source": [
    "#Do the same for qb_data \n",
    "\n",
    "qb_copy = qb_data[['Tm', 'Year', 'Cmp', 'Att', 'Cmp%', 'Yds', 'TD', 'TD%', 'Int', 'Int%', 'Y/A', 'AY/A', 'Y/C', 'Y/G', 'Rate', 'Sk', 'Yds-s', 'Sk%', 'NY/A', 'ANY/A']]\n",
    "\n",
    "qb_copy.head()"
   ]
  },
  {
   "cell_type": "code",
   "execution_count": null,
   "id": "d4727a58-abd4-4709-b0d4-48c8721136bc",
   "metadata": {},
   "outputs": [],
   "source": [
    "#Dropping 2007 data since is is all 2023 data and does not reflect the data from that time \n",
    "qb_copy = qb_copy[qb_data['Year'] != 2007]"
   ]
  },
  {
   "cell_type": "code",
   "execution_count": null,
   "id": "ee768a4d-7e3f-4f40-9d4a-d4adc7215ffb",
   "metadata": {},
   "outputs": [],
   "source": [
    "#Rename NFL team columns for when it's time to merge \n",
    "nfl_copy = nfl_copy.rename(columns={\n",
    "    'NFL Team':'Team',\n",
    "    'W':'Wins',\n",
    "    'L':'Losses',\n",
    "    'T':'Tied',\n",
    "    'PCT':'Win/Loss%',\n",
    "    'PF':'Pts Scored',\n",
    "    'PA':'Pts Against'\n",
    "})\n",
    "\n",
    "nfl_copy.head()"
   ]
  },
  {
   "cell_type": "code",
   "execution_count": null,
   "id": "ad67275c-e0f7-45cd-b834-1df509c2c025",
   "metadata": {},
   "outputs": [],
   "source": [
    "#Do the same for qb_copy \n",
    "qb_copy = qb_copy.rename(columns={\n",
    "    'Tm':'Team',\n",
    "    'Sk':'Sacks',\n",
    "    'NY/A':'NetYds/Att',\n",
    "    'ANY/A':'AdjNY/A'\n",
    "})\n",
    "\n",
    "qb_copy.head()"
   ]
  },
  {
   "cell_type": "code",
   "execution_count": null,
   "id": "ec9c9594-1b8f-406f-b4e2-9e76d13f96c5",
   "metadata": {},
   "outputs": [],
   "source": [
    "#Makes sure the years line up now\n",
    "# Drop year 2000 from master team data\n",
    "nfl_copy = nfl_copy[nfl_copy['Year'] != 2000]\n",
    "\n",
    "#Drop 2022 and 2023 from QB data\n",
    "qb_copy = qb_copy[~qb_copy['Year'].isin([2022, 2023])]"
   ]
  },
  {
   "cell_type": "code",
   "execution_count": null,
   "id": "807942c1-53bd-4db7-a0c2-878914cbc813",
   "metadata": {},
   "outputs": [],
   "source": [
    "#Sanity check\n",
    "display(nfl_copy['Year'].unique(),\n",
    "       qb_copy['Year'].unique())"
   ]
  },
  {
   "cell_type": "code",
   "execution_count": null,
   "id": "6f3983d0-9424-4471-89c1-7cd6907b3e58",
   "metadata": {
    "scrolled": true
   },
   "outputs": [],
   "source": [
    "#Check for QBs with multiple teams \n",
    "qb_copy[qb_copy['Team'].str.contains('TM')]\n"
   ]
  },
  {
   "cell_type": "code",
   "execution_count": null,
   "id": "f93aec55-856c-42c7-b185-cecaaafc32e3",
   "metadata": {},
   "outputs": [],
   "source": [
    "#Drop rows where a QB is listed with multiple teams in a season (like '2TM', '3TM', etc.)\n",
    "qb_copy = qb_copy[~qb_copy['Team'].isin(['2TM', '3TM'])].copy()\n",
    "\n",
    "#Then check that it worked \n",
    "qb_copy[qb_copy['Team'].str.contains('TM')]"
   ]
  },
  {
   "cell_type": "code",
   "execution_count": null,
   "id": "394f8879-5062-4fd5-84eb-c054c78d2e75",
   "metadata": {},
   "outputs": [],
   "source": [
    "#Drop rows with backup QBs, though they do matter to  a degree, we want the QB who is most relevant in a given season\n",
    "#Sort so the QB with most pass attempts per team/year is on top\n",
    "qb_copy_sorted = qb_copy.sort_values(by=['Year', 'Team', 'Att'], ascending=[True, True, False])\n",
    "\n",
    "#Drop duplicates to keep only one QB per team per year\n",
    "qb_copy = qb_copy_sorted.drop_duplicates(subset=['Year', 'Team'], keep='first')\n",
    "\n",
    "qb_copy.shape"
   ]
  },
  {
   "cell_type": "code",
   "execution_count": null,
   "id": "23eab90e-fdd2-4bc9-8ba5-52d3ed59cd34",
   "metadata": {},
   "outputs": [],
   "source": [
    "#Let's change those abbreviations to the actual team names \n",
    "team_abbr_to_full = {\n",
    "    'ARI': 'Arizona Cardinals',\n",
    "    'ATL': 'Atlanta Falcons',\n",
    "    'BAL': 'Baltimore Ravens',\n",
    "    'BUF': 'Buffalo Bills',\n",
    "    'CAR': 'Carolina Panthers',\n",
    "    'CHI': 'Chicago Bears',\n",
    "    'CIN': 'Cincinnati Bengals',\n",
    "    'CLE': 'Cleveland Browns',\n",
    "    'DAL': 'Dallas Cowboys',\n",
    "    'DEN': 'Denver Broncos',\n",
    "    'DET': 'Detroit Lions',\n",
    "    'GNB': 'Green Bay Packers',\n",
    "    'HOU': 'Houston Texans',\n",
    "    'IND': 'Indianapolis Colts',\n",
    "    'JAX': 'Jacksonville Jaguars',\n",
    "    'KAN': 'Kansas City Chiefs',\n",
    "    'LAC': 'Los Angeles Chargers',        # formerly SDG\n",
    "    'LAR': 'Los Angeles Rams',            # formerly STL\n",
    "    'MIA': 'Miami Dolphins',\n",
    "    'MIN': 'Minnesota Vikings',\n",
    "    'NWE': 'New England Patriots',\n",
    "    'NOR': 'New Orleans Saints',\n",
    "    'NYG': 'New York Giants',\n",
    "    'NYJ': 'New York Jets',\n",
    "    'OAK': 'Las Vegas Raiders',           # formerly Oakland Raiders\n",
    "    'PHI': 'Philadelphia Eagles',\n",
    "    'PIT': 'Pittsburgh Steelers',\n",
    "    'SDG': 'Los Angeles Chargers',        # San Diego Chargers → now merged into LAC\n",
    "    'SEA': 'Seattle Seahawks',\n",
    "    'SFO': 'San Francisco 49ers',\n",
    "    'STL': 'Los Angeles Rams',            # St. Louis Rams → now LAR\n",
    "    'TAM': 'Tampa Bay Buccaneers',\n",
    "    'TEN': 'Tennessee Titans',\n",
    "    'WAS': 'Washington Commanders'        # formerly Washington Football Team\n",
    "}\n",
    "\n",
    "qb_copy['Team'] = qb_copy['Team'].map(team_abbr_to_full)"
   ]
  },
  {
   "cell_type": "code",
   "execution_count": null,
   "id": "59ae89ae-4a9c-45a6-8133-1949114e72f1",
   "metadata": {},
   "outputs": [],
   "source": [
    "#Check the number of rows for each data set \n",
    "\n",
    "display(nfl_copy.shape,\n",
    "       qb_copy.shape)"
   ]
  },
  {
   "cell_type": "markdown",
   "id": "3afa9319-2051-46b3-a9aa-361561bceab0",
   "metadata": {},
   "source": [
    "### Merge the Data"
   ]
  },
  {
   "cell_type": "code",
   "execution_count": null,
   "id": "a72fb1e0-41bd-4e38-a2e9-a4ac838f8114",
   "metadata": {},
   "outputs": [],
   "source": [
    "# Merge qb_copy and nfl_copy on 'Team' and 'Year'\n",
    "merged_df = pd.merge(qb_copy, nfl_copy, on=['Team', 'Year'], how='inner')"
   ]
  },
  {
   "cell_type": "code",
   "execution_count": null,
   "id": "5b1f3906-19b9-4b35-b070-261f50be9ccf",
   "metadata": {
    "scrolled": true
   },
   "outputs": [],
   "source": [
    "#Review the merged data\n",
    "print(merged_df.shape)          # See how many rows and columns\n",
    "print(merged_df.head())         # Preview the first few rows\n",
    "print(merged_df.columns)        # See all column names in the combined dataset"
   ]
  },
  {
   "cell_type": "markdown",
   "id": "4d664213-31f1-4917-aef8-89ee4f8f9fa8",
   "metadata": {},
   "source": [
    "### For the Logistic Give it a Categorical Value"
   ]
  },
  {
   "cell_type": "code",
   "execution_count": null,
   "id": "044e159b-7ba2-4054-8ae8-cc6b42525604",
   "metadata": {},
   "outputs": [],
   "source": [
    "# Adding binary column for logistic regression\n",
    "merged_df['Winning_Season'] = (merged_df['Win/Loss%'] >= 0.500).astype(int)"
   ]
  },
  {
   "cell_type": "code",
   "execution_count": null,
   "id": "f5d1a16f-5093-4bc9-9855-5664b0ee15fb",
   "metadata": {},
   "outputs": [],
   "source": [
    "display(merged_df['Winning_Season'])"
   ]
  },
  {
   "cell_type": "markdown",
   "id": "c18958fa-ed2b-447b-b5e7-90eee03b8a56",
   "metadata": {},
   "source": [
    "### Export the Data"
   ]
  },
  {
   "cell_type": "code",
   "execution_count": null,
   "id": "71a1fa5b-65b2-46a3-ae90-4cccc3f4abde",
   "metadata": {},
   "outputs": [],
   "source": [
    "#Finally Export the Dataframe \n",
    "merged_df.to_csv('NFL_Performance_Data.csv', index=False, encoding='utf-8')"
   ]
  },
  {
   "cell_type": "code",
   "execution_count": null,
   "id": "aa9ccc7d-6980-4927-8b97-0b247971bafe",
   "metadata": {},
   "outputs": [],
   "source": []
  }
 ],
 "metadata": {
  "kernelspec": {
   "display_name": "Python [conda env:Orange]",
   "language": "python",
   "name": "conda-env-Orange-py"
  },
  "language_info": {
   "codemirror_mode": {
    "name": "ipython",
    "version": 3
   },
   "file_extension": ".py",
   "mimetype": "text/x-python",
   "name": "python",
   "nbconvert_exporter": "python",
   "pygments_lexer": "ipython3",
   "version": "3.11.8"
  }
 },
 "nbformat": 4,
 "nbformat_minor": 5
}
