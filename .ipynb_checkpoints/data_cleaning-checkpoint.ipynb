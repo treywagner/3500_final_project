{
 "cells": [
  {
   "cell_type": "markdown",
   "id": "ae157359-9f10-4529-b4b3-25b78ba15b34",
   "metadata": {},
   "source": [
    "# **Data Mining Final Project**\n",
    "## Data Cleanig"
   ]
  },
  {
   "cell_type": "code",
   "execution_count": null,
   "id": "75cc9601-c793-4127-bee9-d08f79debe23",
   "metadata": {},
   "outputs": [],
   "source": []
  }
 ],
 "metadata": {
  "kernelspec": {
   "display_name": "Python 3 (ipykernel)",
   "language": "python",
   "name": "python3"
  },
  "language_info": {
   "codemirror_mode": {
    "name": "ipython",
    "version": 3
   },
   "file_extension": ".py",
   "mimetype": "text/x-python",
   "name": "python",
   "nbconvert_exporter": "python",
   "pygments_lexer": "ipython3",
   "version": "3.12.3"
  }
 },
 "nbformat": 4,
 "nbformat_minor": 5
}
